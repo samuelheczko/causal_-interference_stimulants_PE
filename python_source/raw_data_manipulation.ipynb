{
 "cells": [
  {
   "cell_type": "code",
   "execution_count": 140,
   "metadata": {},
   "outputs": [],
   "source": [
    "import os\n",
    "import numpy as np\n",
    "import pandas as pd \n",
    "import matplotlib.pyplot as plt"
   ]
  },
  {
   "cell_type": "code",
   "execution_count": 280,
   "metadata": {},
   "outputs": [
    {
     "name": "stdout",
     "output_type": "stream",
     "text": [
      "/Users/samuelheczko/Documents/School/phd/mini-projects/Kelleher_block_2/code/python_source\n",
      "plot paths correctly set: True, data path: True\n"
     ]
    },
    {
     "name": "stderr",
     "output_type": "stream",
     "text": [
      "/var/folders/5x/y5wv_9xn73sgkmjg4x4c3r3h0000gn/T/ipykernel_68280/3468429232.py:31: DtypeWarning: Columns (4) have mixed types. Specify dtype option on import or set low_memory=False.\n",
      "  general_csvs[csv.split('.')[0]] = pd.read_csv(general_path + csv)\n"
     ]
    },
    {
     "name": "stdout",
     "output_type": "stream",
     "text": [
      "Keys in dictionary gender/sexual identity dict_keys(['gish_p_gi', 'gish_y_sex', 'gish_p_sex', 'gish_y_gi'])\n",
      "Keys in dictionary general dict_keys(['abcd_p_demo', 'abcd_y_lt', 'abcd_y_lf', 'abcd_p_ocp', 'abcd_p_screen'])\n",
      "Keys in dictionary mental health dict_keys(['mh_y_cbb', 'mh_y_le', 'mh_p_ksads_ss', 'mh_t_bpm', 'mh_p_ksads_sep', 'mh_y_ksads_cd', 'mh_p_ksads_gad', 'mh_p_ksads_ocd', 'mh_p_ksads_hi', 'mh_y_bisbas', 'mh_y_ksads_bg', 'mh_p_ksads_odd', 'mh_p_ksads_ptsd', 'mh_p_cbcl', 'mh_p_eatq', 'mh_p_ksads_phb', 'mh_y_ksads_ed', 'mh_y_ksads_si', 'mh_p_pss', 'mh_p_ksads_asd', 'mh_y_ksads_gad', 'mh_p_ksads_psy', 'mh_y_7up', 'mh_p_abcl', 'mh_p_ksads_bg', 'mh_p_ksads_bp', 'mh_y_pps', 'mh_p_ksads_ago', 'mh_p_ksads_dmdd', 'mh_y_peq', 'mh_p_ksads_sad', 'mh_y_ksads_bip', 'mh_y_ksads_dmdd', 'mh_p_ders', 'mh_p_ksads_slp', 'mh_p_ksads_cd', 'mh_p_ssrs', 'mh_y_ksads_dep', 'mh_y_ksads_ss', 'mh_y_erq', 'mh_p_asr', 'mh_p_fhx', 'mh_y_upps', 'mh_y_bpm', 'mh_y_ksads_sad', 'mh_y_ksads_slp', 'mh_p_ksads_dep', 'mh_p_ksads_adhd', 'mh_p_gbi', 'mh_y_or', 'mh_p_le', 'mh_p_ksads_pd', 'mh_y_poa', 'mh_p_ksads_si', 'mh_p_ksads_ed'])\n"
     ]
    }
   ],
   "source": [
    "##LOAD UP THE DATA\n",
    "## 0. check the curernt path, configured to run from /python_source\n",
    "print(os.getcwd())\n",
    "\n",
    "## 1. define paths \n",
    "main_path = \"../\"\n",
    "plot_path = main_path + '/plots/'\n",
    "data_path = main_path + '/data/raw/core/'\n",
    "\n",
    "##the specific subfolders check the ABCD data dictionary\n",
    "\n",
    "mental_healht = data_path + '/abcd-general/'\n",
    "gender_sexual_path = data_path + '/gender-identity-sexual-health/'\n",
    "mental_health_path = data_path + '/mental-health/'\n",
    "\n",
    "\n",
    "\n",
    "##2. check if the path exists\n",
    "isExist = os.path.exists(plot_path)\n",
    "isExist2 = os.path.exists(data_path)\n",
    "print(f'plot paths correctly set: {isExist}, data path: {isExist2}')\n",
    "\n",
    "##3. read up the csvs\n",
    "gender_csvs = {}\n",
    "general_csvs = {}\n",
    "mental_health_csvs = {}\n",
    "for csv in os.listdir(gender_sexual_path):\n",
    "    gender_csvs[csv.split('.')[0]] = pd.read_csv(gender_sexual_path + csv)\n",
    "\n",
    "for csv in os.listdir(general_path):\n",
    "    general_csvs[csv.split('.')[0]] = pd.read_csv(general_path + csv)\n",
    "\n",
    "\n",
    "for csv in os.listdir(mental_health_path):\n",
    "    mental_health_csvs[csv.split('.')[0]] = pd.read_csv(mental_health_path + csv,dtype='unicode')\n",
    "\n",
    "\n",
    "##3. look at the keys from the filenames\n",
    "print(f'Keys in dictionary gender/sexual identity {gender_csvs.keys()}')\n",
    "print(f'Keys in dictionary general {general_csvs.keys()}')\n",
    "print(f'Keys in dictionary mental health {mental_health_csvs.keys()}')\n",
    "\n",
    "\n",
    "#now we have the dictionary for all the csvs in abcd general !\n",
    "\n"
   ]
  },
  {
   "cell_type": "code",
   "execution_count": 266,
   "metadata": {},
   "outputs": [],
   "source": [
    "##ADD SEX AT BIRTH + GENDER CONFORMITY TO THE DATAFRAME\n",
    "\n",
    "dataframe_for_regression = pd.DataFrame() ##create empty dataframe to save the sex at birth and the gender conformity\n",
    "\n",
    "\n",
    "subjects_gender_i = gender_csvs['gish_y_gi']['src_subject_id'].unique() ##extract subject codes in gender/sexuality dataset\n",
    "subjects_demo = general_csvs['abcd_p_demo']['src_subject_id'].unique() ##extract subject codes in general geo dataset\n",
    "subjects = np.array(list(set(subjects_demo) & set(subjects_gender_i))) ##define subjects that are present in both\n",
    "\n",
    "gender_list = [] ##initieate arrays - for strings we need lists rather than np arrays\n",
    "gender_i_list = np.zeros(len(subjects))\n",
    "gender_number = np.zeros(len(subjects))\n",
    "\n",
    "for subject_i, subject in enumerate(subjects):\n",
    "    #print(subject)\n",
    "    boolean_subject_gi = np.isin(gender_csvs['gish_y_gi']['src_subject_id'],[subject])\n",
    "    boolean_subject_demo = np.isin(general_csvs['abcd_p_demo']['src_subject_id'],[subject])\n",
    "    \n",
    "    if general_csvs['abcd_p_demo'].iloc[boolean_subject_demo,:]['demo_sex_v2'].dropna().values == 1.0:\n",
    "        gender_list.append('M') ##save the gender\n",
    "        gender_number[subject_i] = 0 ##0 for males\n",
    "        gender_i_list[subject_i] = gender_csvs['gish_y_gi'].iloc[boolean_subject_gi,:]['gish_m1_y'].dropna().mean() ##save the average feeling of belonign to male gender (higher - more conforming)\n",
    "    else:\n",
    "        gender_list.append('F')\n",
    "        gender_number[subject_i] = 1 ##1 for females\n",
    "        gender_i_list[subject_i] = gender_csvs['gish_y_gi'].iloc[boolean_subject_gi,:]['gish_f1_y'].dropna().mean()  ##save the average feeling of belonign to female gender (higher - more conforming)\n",
    "\n",
    "dataframe_for_regression['Subject'] = subjects\n",
    "dataframe_for_regression['Sex_at_birth'] = gender_list\n",
    "dataframe_for_regression['Sex_numerical'] = gender_number\n",
    "dataframe_for_regression['Gender_Conformity'] = gender_i_list\n",
    "\n",
    "\n",
    "    "
   ]
  },
  {
   "cell_type": "code",
   "execution_count": 335,
   "metadata": {},
   "outputs": [
    {
     "ename": "KeyboardInterrupt",
     "evalue": "",
     "output_type": "error",
     "traceback": [
      "\u001b[0;31m---------------------------------------------------------------------------\u001b[0m",
      "\u001b[0;31mKeyboardInterrupt\u001b[0m                         Traceback (most recent call last)",
      "\u001b[1;32m/Users/samuelheczko/Documents/School/phd/mini-projects/Kelleher_block_2/code/python_source/raw_data_manipulation.ipynb Cell 4\u001b[0m line \u001b[0;36m4\n\u001b[1;32m      <a href='vscode-notebook-cell:/Users/samuelheczko/Documents/School/phd/mini-projects/Kelleher_block_2/code/python_source/raw_data_manipulation.ipynb#X10sZmlsZQ%3D%3D?line=0'>1</a>\u001b[0m \u001b[39m##ADD ADHD SYMPTOMS\u001b[39;00m\n\u001b[1;32m      <a href='vscode-notebook-cell:/Users/samuelheczko/Documents/School/phd/mini-projects/Kelleher_block_2/code/python_source/raw_data_manipulation.ipynb#X10sZmlsZQ%3D%3D?line=2'>3</a>\u001b[0m \u001b[39mfor\u001b[39;00m subject_i, subject \u001b[39min\u001b[39;00m \u001b[39menumerate\u001b[39m(subjects):\n\u001b[0;32m----> <a href='vscode-notebook-cell:/Users/samuelheczko/Documents/School/phd/mini-projects/Kelleher_block_2/code/python_source/raw_data_manipulation.ipynb#X10sZmlsZQ%3D%3D?line=3'>4</a>\u001b[0m     boolean_subject_ \u001b[39m=\u001b[39m np\u001b[39m.\u001b[39misin(mental_health_csvs[\u001b[39m'\u001b[39m\u001b[39mmh_p_asr\u001b[39m\u001b[39m'\u001b[39m][\u001b[39m'\u001b[39m\u001b[39msrc_subject_id\u001b[39m\u001b[39m'\u001b[39m],[subject])\n",
      "File \u001b[0;32m<__array_function__ internals>:200\u001b[0m, in \u001b[0;36misin\u001b[0;34m(*args, **kwargs)\u001b[0m\n",
      "File \u001b[0;32m~/anaconda3/lib/python3.11/site-packages/numpy/lib/arraysetops.py:890\u001b[0m, in \u001b[0;36misin\u001b[0;34m(element, test_elements, assume_unique, invert, kind)\u001b[0m\n\u001b[1;32m    769\u001b[0m \u001b[39m\u001b[39m\u001b[39m\"\"\"\u001b[39;00m\n\u001b[1;32m    770\u001b[0m \u001b[39mCalculates ``element in test_elements``, broadcasting over `element` only.\u001b[39;00m\n\u001b[1;32m    771\u001b[0m \u001b[39mReturns a boolean array of the same shape as `element` that is True\u001b[39;00m\n\u001b[0;32m   (...)\u001b[0m\n\u001b[1;32m    887\u001b[0m \u001b[39m       [ True, False]])\u001b[39;00m\n\u001b[1;32m    888\u001b[0m \u001b[39m\"\"\"\u001b[39;00m\n\u001b[1;32m    889\u001b[0m element \u001b[39m=\u001b[39m np\u001b[39m.\u001b[39masarray(element)\n\u001b[0;32m--> 890\u001b[0m \u001b[39mreturn\u001b[39;00m in1d(element, test_elements, assume_unique\u001b[39m=\u001b[39massume_unique,\n\u001b[1;32m    891\u001b[0m             invert\u001b[39m=\u001b[39minvert, kind\u001b[39m=\u001b[39mkind)\u001b[39m.\u001b[39mreshape(element\u001b[39m.\u001b[39mshape)\n",
      "File \u001b[0;32m<__array_function__ internals>:200\u001b[0m, in \u001b[0;36min1d\u001b[0;34m(*args, **kwargs)\u001b[0m\n",
      "\u001b[0;31mKeyboardInterrupt\u001b[0m: "
     ]
    }
   ],
   "source": [
    "##ADD ADHD SYMPTOMS\n",
    "\n",
    "for subject_i, subject in enumerate(subjects):\n",
    "    boolean_subject_ = np.isin(mental_health_csvs['mh_p_asr']['src_subject_id'],[subject])\n",
    "    mental_health_csvs['mh_p_asr']['asr_scr_adhd_t']\n",
    "\n",
    "\n",
    "\n"
   ]
  },
  {
   "cell_type": "code",
   "execution_count": 209,
   "metadata": {},
   "outputs": [
    {
     "name": "stdout",
     "output_type": "stream",
     "text": [
      "(11866,)\n"
     ]
    },
    {
     "data": {
      "text/plain": [
       "(11868,)"
      ]
     },
     "execution_count": 209,
     "metadata": {},
     "output_type": "execute_result"
    }
   ],
   "source": [
    "print(gender_csvs['gish_y_gi']['src_subject_id'].unique().shape)\n",
    "c.shape"
   ]
  },
  {
   "cell_type": "code",
   "execution_count": 178,
   "metadata": {},
   "outputs": [
    {
     "data": {
      "text/html": [
       "<div>\n",
       "<style scoped>\n",
       "    .dataframe tbody tr th:only-of-type {\n",
       "        vertical-align: middle;\n",
       "    }\n",
       "\n",
       "    .dataframe tbody tr th {\n",
       "        vertical-align: top;\n",
       "    }\n",
       "\n",
       "    .dataframe thead th {\n",
       "        text-align: right;\n",
       "    }\n",
       "</style>\n",
       "<table border=\"1\" class=\"dataframe\">\n",
       "  <thead>\n",
       "    <tr style=\"text-align: right;\">\n",
       "      <th></th>\n",
       "      <th>subject</th>\n",
       "      <th>birth_gender</th>\n",
       "      <th>gender_i_strenght</th>\n",
       "    </tr>\n",
       "  </thead>\n",
       "  <tbody>\n",
       "    <tr>\n",
       "      <th>115</th>\n",
       "      <td>NDAR_INV09AEBLZH</td>\n",
       "      <td>M</td>\n",
       "      <td>NaN</td>\n",
       "    </tr>\n",
       "    <tr>\n",
       "      <th>126</th>\n",
       "      <td>NDAR_INV0A86UD86</td>\n",
       "      <td>M</td>\n",
       "      <td>NaN</td>\n",
       "    </tr>\n",
       "    <tr>\n",
       "      <th>231</th>\n",
       "      <td>NDAR_INV0JCWR24P</td>\n",
       "      <td>M</td>\n",
       "      <td>NaN</td>\n",
       "    </tr>\n",
       "    <tr>\n",
       "      <th>239</th>\n",
       "      <td>NDAR_INV0JWEE23L</td>\n",
       "      <td>M</td>\n",
       "      <td>NaN</td>\n",
       "    </tr>\n",
       "    <tr>\n",
       "      <th>262</th>\n",
       "      <td>NDAR_INV0LN1KD13</td>\n",
       "      <td>M</td>\n",
       "      <td>NaN</td>\n",
       "    </tr>\n",
       "    <tr>\n",
       "      <th>...</th>\n",
       "      <td>...</td>\n",
       "      <td>...</td>\n",
       "      <td>...</td>\n",
       "    </tr>\n",
       "    <tr>\n",
       "      <th>11676</th>\n",
       "      <td>NDAR_INVZF3HPJFM</td>\n",
       "      <td>M</td>\n",
       "      <td>NaN</td>\n",
       "    </tr>\n",
       "    <tr>\n",
       "      <th>11705</th>\n",
       "      <td>NDAR_INVZJ7JH5RE</td>\n",
       "      <td>M</td>\n",
       "      <td>NaN</td>\n",
       "    </tr>\n",
       "    <tr>\n",
       "      <th>11726</th>\n",
       "      <td>NDAR_INVZKDXUC63</td>\n",
       "      <td>M</td>\n",
       "      <td>NaN</td>\n",
       "    </tr>\n",
       "    <tr>\n",
       "      <th>11763</th>\n",
       "      <td>NDAR_INVZNTJH2GT</td>\n",
       "      <td>M</td>\n",
       "      <td>NaN</td>\n",
       "    </tr>\n",
       "    <tr>\n",
       "      <th>11802</th>\n",
       "      <td>NDAR_INVZU422XFY</td>\n",
       "      <td>M</td>\n",
       "      <td>NaN</td>\n",
       "    </tr>\n",
       "  </tbody>\n",
       "</table>\n",
       "<p>343 rows × 3 columns</p>\n",
       "</div>"
      ],
      "text/plain": [
       "                subject birth_gender  gender_i_strenght\n",
       "115    NDAR_INV09AEBLZH            M                NaN\n",
       "126    NDAR_INV0A86UD86            M                NaN\n",
       "231    NDAR_INV0JCWR24P            M                NaN\n",
       "239    NDAR_INV0JWEE23L            M                NaN\n",
       "262    NDAR_INV0LN1KD13            M                NaN\n",
       "...                 ...          ...                ...\n",
       "11676  NDAR_INVZF3HPJFM            M                NaN\n",
       "11705  NDAR_INVZJ7JH5RE            M                NaN\n",
       "11726  NDAR_INVZKDXUC63            M                NaN\n",
       "11763  NDAR_INVZNTJH2GT            M                NaN\n",
       "11802  NDAR_INVZU422XFY            M                NaN\n",
       "\n",
       "[343 rows x 3 columns]"
      ]
     },
     "execution_count": 178,
     "metadata": {},
     "output_type": "execute_result"
    }
   ],
   "source": [
    "dataframe_for_regression.iloc[np.isnan(dataframe_for_regression.gender_i_strenght).values,:]\n",
    "\n"
   ]
  },
  {
   "cell_type": "code",
   "execution_count": 157,
   "metadata": {},
   "outputs": [
    {
     "data": {
      "text/plain": [
       "308      0.00\n",
       "1562     0.00\n",
       "1917     0.00\n",
       "3776     0.00\n",
       "3837     0.00\n",
       "5558     0.00\n",
       "6654     0.00\n",
       "6965     0.00\n",
       "7288     0.00\n",
       "11603    0.75\n",
       "Name: gender_i_strenght, dtype: float64"
      ]
     },
     "execution_count": 157,
     "metadata": {},
     "output_type": "execute_result"
    }
   ],
   "source": [
    "dataframe_for_regression.gender_i_strenght.nsmallest(10)"
   ]
  },
  {
   "cell_type": "code",
   "execution_count": 86,
   "metadata": {},
   "outputs": [
    {
     "ename": "KeyError",
     "evalue": "'gender'",
     "output_type": "error",
     "traceback": [
      "\u001b[0;31m---------------------------------------------------------------------------\u001b[0m",
      "\u001b[0;31mKeyError\u001b[0m                                  Traceback (most recent call last)",
      "\u001b[1;32m/Users/samuelheczko/Documents/School/phd/mini-projects/Kelleher_block_2/code/python_source/raw_data_manipulation.ipynb Cell 3\u001b[0m line \u001b[0;36m3\n\u001b[1;32m      <a href='vscode-notebook-cell:/Users/samuelheczko/Documents/School/phd/mini-projects/Kelleher_block_2/code/python_source/raw_data_manipulation.ipynb#W2sZmlsZQ%3D%3D?line=0'>1</a>\u001b[0m \u001b[39m##MAKE THE DATAFRAME TO USE FOR THE REGRESSION \u001b[39;00m\n\u001b[1;32m      <a href='vscode-notebook-cell:/Users/samuelheczko/Documents/School/phd/mini-projects/Kelleher_block_2/code/python_source/raw_data_manipulation.ipynb#W2sZmlsZQ%3D%3D?line=1'>2</a>\u001b[0m gish_y_gi \u001b[39m=\u001b[39m pd\u001b[39m.\u001b[39mDataFrame()\n\u001b[0;32m----> <a href='vscode-notebook-cell:/Users/samuelheczko/Documents/School/phd/mini-projects/Kelleher_block_2/code/python_source/raw_data_manipulation.ipynb#W2sZmlsZQ%3D%3D?line=2'>3</a>\u001b[0m gish_y_gi[\u001b[39m'\u001b[39m\u001b[39mgender\u001b[39m\u001b[39m'\u001b[39m]\n\u001b[1;32m      <a href='vscode-notebook-cell:/Users/samuelheczko/Documents/School/phd/mini-projects/Kelleher_block_2/code/python_source/raw_data_manipulation.ipynb#W2sZmlsZQ%3D%3D?line=4'>5</a>\u001b[0m gender_csvs\n",
      "File \u001b[0;32m~/anaconda3/lib/python3.11/site-packages/pandas/core/frame.py:3761\u001b[0m, in \u001b[0;36mDataFrame.__getitem__\u001b[0;34m(self, key)\u001b[0m\n\u001b[1;32m   3759\u001b[0m \u001b[39mif\u001b[39;00m \u001b[39mself\u001b[39m\u001b[39m.\u001b[39mcolumns\u001b[39m.\u001b[39mnlevels \u001b[39m>\u001b[39m \u001b[39m1\u001b[39m:\n\u001b[1;32m   3760\u001b[0m     \u001b[39mreturn\u001b[39;00m \u001b[39mself\u001b[39m\u001b[39m.\u001b[39m_getitem_multilevel(key)\n\u001b[0;32m-> 3761\u001b[0m indexer \u001b[39m=\u001b[39m \u001b[39mself\u001b[39m\u001b[39m.\u001b[39mcolumns\u001b[39m.\u001b[39mget_loc(key)\n\u001b[1;32m   3762\u001b[0m \u001b[39mif\u001b[39;00m is_integer(indexer):\n\u001b[1;32m   3763\u001b[0m     indexer \u001b[39m=\u001b[39m [indexer]\n",
      "File \u001b[0;32m~/anaconda3/lib/python3.11/site-packages/pandas/core/indexes/range.py:349\u001b[0m, in \u001b[0;36mRangeIndex.get_loc\u001b[0;34m(self, key)\u001b[0m\n\u001b[1;32m    347\u001b[0m         \u001b[39mraise\u001b[39;00m \u001b[39mKeyError\u001b[39;00m(key) \u001b[39mfrom\u001b[39;00m \u001b[39merr\u001b[39;00m\n\u001b[1;32m    348\u001b[0m \u001b[39mif\u001b[39;00m \u001b[39misinstance\u001b[39m(key, Hashable):\n\u001b[0;32m--> 349\u001b[0m     \u001b[39mraise\u001b[39;00m \u001b[39mKeyError\u001b[39;00m(key)\n\u001b[1;32m    350\u001b[0m \u001b[39mself\u001b[39m\u001b[39m.\u001b[39m_check_indexing_error(key)\n\u001b[1;32m    351\u001b[0m \u001b[39mraise\u001b[39;00m \u001b[39mKeyError\u001b[39;00m(key)\n",
      "\u001b[0;31mKeyError\u001b[0m: 'gender'"
     ]
    }
   ],
   "source": [
    "##MAKE THE DATAFRAME TO USE FOR THE REGRESSION \n",
    "dataframe_for_regression = pd.DataFrame()\n",
    "gish_y_gi['gender']\n",
    "\n",
    "gender_csvs"
   ]
  },
  {
   "cell_type": "code",
   "execution_count": null,
   "metadata": {},
   "outputs": [],
   "source": []
  }
 ],
 "metadata": {
  "kernelspec": {
   "display_name": "scvelo",
   "language": "python",
   "name": "python3"
  },
  "language_info": {
   "codemirror_mode": {
    "name": "ipython",
    "version": 3
   },
   "file_extension": ".py",
   "mimetype": "text/x-python",
   "name": "python",
   "nbconvert_exporter": "python",
   "pygments_lexer": "ipython3",
   "version": "3.11.5"
  }
 },
 "nbformat": 4,
 "nbformat_minor": 2
}
